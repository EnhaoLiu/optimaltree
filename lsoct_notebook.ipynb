{
 "nbformat": 4,
 "nbformat_minor": 2,
 "metadata": {
  "language_info": {
   "name": "python",
   "codemirror_mode": {
    "name": "ipython",
    "version": 3
   },
   "version": "3.7.3-final"
  },
  "orig_nbformat": 2,
  "file_extension": ".py",
  "mimetype": "text/x-python",
  "name": "python",
  "npconvert_exporter": "python",
  "pygments_lexer": "ipython3",
  "version": 3,
  "kernelspec": {
   "name": "python37364bitoctenvvenvc85007f1dcf54b3da2770a6329d522b4",
   "display_name": "Python 3.7.3 64-bit ('octenv': venv)",
   "language": "python"
  }
 },
 "cells": [
  {
   "cell_type": "markdown",
   "metadata": {},
   "source": [
    "# Large Scale Optimal Classification Tree\n",
    "\n",
    "This notebook document is a **python** implementation for the Optimal Classification Trees (OCTs) proposed by Dimitris Bertsimas and Jack Dunn, and a new algorithm called Large-Scale OCTs developed by Enhao Liu.\n"
   ]
  },
  {
   "cell_type": "markdown",
   "metadata": {},
   "source": [
    "# Library Settings"
   ]
  },
  {
   "cell_type": "code",
   "execution_count": 5,
   "metadata": {},
   "outputs": [],
   "source": [
    "import os\n",
    "import pandas as pd\n",
    "import numpy as np\n",
    "import matplotlib.pyplot as plt\n",
    "import matplotlib as mpl\n",
    "%matplotlib inline\n",
    "plt.style.use('seaborn-whitegrid')\n",
    "\n",
    "from lsopt.tree import OptimalTreeClassifier\n",
    "from sklearn.metrics import classification_report\n",
    "from sklearn.metrics import confusion_matrix\n",
    "from sklearn import tree\n",
    "from sklearn import datasets\n",
    "import graphviz"
   ]
  },
  {
   "cell_type": "markdown",
   "metadata": {},
   "source": [
    "# Optimal Classification Tree\n",
    "\n",
    "## Example: Iris Dataset"
   ]
  },
  {
   "cell_type": "code",
   "execution_count": 9,
   "metadata": {},
   "outputs": [],
   "source": [
    "# current_path = os.path.abspath(os.path.dirname(__file__))\n",
    "# data_path = os.path.join(current_path, \"./tests/data/Iris.csv\")\n",
    "data_path = './tests/data/Iris.csv'\n",
    "\n",
    "iris_data = pd.read_csv(data_path)\n",
    "iris_data.drop(columns=[\"Id\"], inplace=True)\n",
    "iris_data_sub = iris_data.sample(n=20, random_state=1)"
   ]
  },
  {
   "cell_type": "code",
   "execution_count": 10,
   "metadata": {},
   "outputs": [],
   "source": [
    "# get X from iris data_sub\n",
    "# iris_sub_X = iris_data_sub.iloc[:, 0:4].to_numpy()\n",
    "# iris_sub_Y_label = iris_data_sub[\"Species\"].to_numpy()\n",
    "\n",
    "iris_all_X = iris_data.iloc[:, 0:4].to_numpy()\n",
    "iris_all_Y_label = iris_data[\"Species\"].to_numpy()"
   ]
  },
  {
   "cell_type": "code",
   "execution_count": 12,
   "metadata": {},
   "outputs": [],
   "source": [
    "# Define OptimalTreeClassifier\n",
    "opt_tree = OptimalTreeClassifier(max_depth=3,\n",
    "                                 min_samples_leaf=1,\n",
    "                                 alpha=0.01,\n",
    "                                 criterion=\"gini\",\n",
    "                                 solver=\"gurobi\",\n",
    "                                 time_limit=1,\n",
    "                                 verbose=True,\n",
    "                                 solver_options={'mip_cuts': 'auto',\n",
    "                                                 'mip_gap_tol': 0.8,\n",
    "                                                 'mip_focus': 'balance'}\n",
    "                                 )\n"
   ]
  },
  {
   "cell_type": "code",
   "execution_count": 13,
   "metadata": {},
   "outputs": [
    {
     "output_type": "stream",
     "name": "stdout",
     "text": [
      "Using license file /Users/enhaoliu/gurobi.lic\n",
      "Academic license - for non-commercial use only\n",
      "Read LP format model from file /var/folders/5y/drctn5r14mzfjfjnld2ybpc80000gn/T/tmpmsocgrqm.pyomo.lp\n",
      "Reading time = 0.03 seconds\n",
      "x1315: 5067 rows, 1315 columns, 28910 nonzeros\n",
      "Changed value of parameter TimeLimit to 60.0\n",
      "   Prev: inf  Min: 0.0  Max: inf  Default: inf\n",
      "Parameter Cuts unchanged\n",
      "   Value: -1  Min: -1  Max: 3  Default: -1\n",
      "Changed value of parameter MIPGap to 0.8\n",
      "   Prev: 0.0001  Min: 0.0  Max: inf  Default: 0.0001\n",
      "Parameter MIPFocus unchanged\n",
      "   Value: 0  Min: 0  Max: 3  Default: 0\n",
      "Gurobi Optimizer version 9.0.1 build v9.0.1rc0 (mac64)\n",
      "Optimize a model with 5067 rows, 1315 columns and 28910 nonzeros\n",
      "Model fingerprint: 0xa96d3d8d\n",
      "Variable types: 48 continuous, 1267 integer (1267 binary)\n",
      "Coefficient statistics:\n",
      "  Matrix range     [2e-02, 2e+02]\n",
      "  Objective range  [1e-02, 1e-02]\n",
      "  Bounds range     [1e+00, 1e+00]\n",
      "  RHS range        [1e+00, 2e+02]\n",
      "Presolve removed 1 rows and 1 columns\n",
      "Presolve time: 0.04s\n",
      "Presolved: 5066 rows, 1314 columns, 26541 nonzeros\n",
      "Variable types: 7 continuous, 1307 integer (1267 binary)\n",
      "Found heuristic solution: objective 1.0000000\n",
      "\n",
      "Root relaxation: objective 0.000000e+00, 589 iterations, 0.02 seconds\n",
      "\n",
      "    Nodes    |    Current Node    |     Objective Bounds      |     Work\n",
      " Expl Unexpl |  Obj  Depth IntInf | Incumbent    BestBd   Gap | It/Node Time\n",
      "\n",
      "     0     0    0.00000    0    3    1.00000    0.00000   100%     -    0s\n",
      "     0     0    0.00000    0   71    1.00000    0.00000   100%     -    0s\n",
      "     0     0    0.00000    0  405    1.00000    0.00000   100%     -    0s\n",
      "     0     0    0.00000    0  148    1.00000    0.00000   100%     -    0s\n",
      "     0     0    0.00000    0  142    1.00000    0.00000   100%     -    0s\n",
      "H    0     0                       0.9900000    0.01000  99.0%     -    0s\n",
      "     0     2    0.01000    0  139    0.99000    0.01000  99.0%     -    0s\n",
      "H   34    40                       0.5200000    0.01000  98.1%   119    0s\n",
      "H   82    91                       0.4300000    0.01000  97.7%  70.3    1s\n",
      "H   92    91                       0.2500000    0.01000  96.0%  63.3    1s\n",
      "H  256   248                       0.1800000    0.01000  94.4%  31.9    1s\n",
      "H  260   248                       0.1400000    0.01000  92.9%  31.5    1s\n",
      "  1554  1165    0.08000   24  253    0.14000    0.02000  85.7%  37.9    5s\n",
      "* 2327  1267             123       0.0800000    0.02000  75.0%  56.8    7s\n",
      "H 2331  1211                       0.0600000    0.02000  66.7%  56.7    7s\n",
      "\n",
      "Cutting planes:\n",
      "  Learned: 7\n",
      "  Cover: 400\n",
      "  Implied bound: 4\n",
      "  Clique: 26\n",
      "  MIR: 1\n",
      "\n",
      "Explored 2394 nodes (142453 simplex iterations) in 7.52 seconds\n",
      "Thread count was 16 (of 16 available processors)\n",
      "\n",
      "Solution count 9: 0.06 0.08 0.14 ... 1\n",
      "\n",
      "Optimal solution found (tolerance 8.00e-01)\n",
      "Best objective 6.000000000000e-02, best bound 2.000000000000e-02, gap 66.6667%\n",
      "Solver running time: 7.874260902404785\n",
      "Solver termination condition: optimal\n",
      "Valid Tree : Yes\n",
      "Confusion Matrix :\n",
      "[[50  0  0]\n",
      " [ 0 47  3]\n",
      " [ 0  0 50]]\n",
      "                 precision    recall  f1-score   support\n",
      "\n",
      "    Iris-setosa       1.00      1.00      1.00        50\n",
      "Iris-versicolor       1.00      0.94      0.97        50\n",
      " Iris-virginica       0.94      1.00      0.97        50\n",
      "\n",
      "       accuracy                           0.98       150\n",
      "      macro avg       0.98      0.98      0.98       150\n",
      "   weighted avg       0.98      0.98      0.98       150\n",
      "\n"
     ]
    },
    {
     "output_type": "execute_result",
     "data": {
      "text/plain": [
       "'tests/optimal_tree.png'"
      ]
     },
     "metadata": {},
     "execution_count": 13
    }
   ],
   "source": [
    "# Fit on X and y\n",
    "opt_tree.fit(X=iris_all_X, y=iris_all_Y_label)\n",
    "\n",
    "# Make prediction\n",
    "Y_pred = opt_tree.predict(X=iris_all_X)\n",
    "Y_pred_prob = opt_tree.predict_proba(X=iris_all_X)\n",
    "\n",
    "# Check confusion matrix\n",
    "print(\"Confusion Matrix :\")\n",
    "print(confusion_matrix(y_true=iris_all_Y_label,\n",
    "                       y_pred=Y_pred))\n",
    "\n",
    "print(classification_report(y_true=iris_all_Y_label,\n",
    "                            y_pred=Y_pred))\n",
    "\n",
    "# Plot Optimal Tree\n",
    "feature_names = iris_data.columns.values[:4]\n",
    "class_names = np.unique(iris_all_Y_label)\n",
    "\n",
    "dot_data = tree.export_graphviz(opt_tree,\n",
    "                                out_file=None,\n",
    "                                feature_names=feature_names,\n",
    "                                class_names=class_names,\n",
    "                                label='all',\n",
    "                                impurity=True,\n",
    "                                node_ids=True,\n",
    "                                filled=True,\n",
    "                                rounded=True,\n",
    "                                leaves_parallel=True,\n",
    "                                special_characters=False)\n",
    "\n",
    "graph = graphviz.Source(dot_data)\n",
    "graph.format = 'png'\n",
    "graph.render(filename='optimal_tree', directory='tests', view=True)"
   ]
  },
  {
   "cell_type": "code",
   "execution_count": null,
   "metadata": {},
   "outputs": [],
   "source": []
  }
 ]
}